{
 "cells": [
  {
   "cell_type": "code",
   "execution_count": 12,
   "metadata": {},
   "outputs": [],
   "source": [
    "import pandas as pd\n",
    "import numpy as np\n",
    "import wikipedia as wiki\n",
    "from bs4 import BeautifulSoup\n",
    "from optional import Optional"
   ]
  },
  {
   "cell_type": "code",
   "execution_count": 68,
   "metadata": {},
   "outputs": [],
   "source": [
    "def getArtistOrigin(name: str):\n",
    "    result = getOriginFromWikipedia(name)\n",
    "    \n",
    "    if result.is_empty():\n",
    "        print(\"Still not found!\")\n",
    "        \n",
    "    if result.is_present():\n",
    "        toReturn = result.get()\n",
    "    else:\n",
    "        toReturn = \"Not Found\"\n",
    "    return toReturn\n",
    "\n",
    "def getOriginFromWikipedia(name: str):\n",
    "    toReturn = Optional.empty()\n",
    "    artistPage = wiki.page(wiki.search(name)[0], auto_suggest=False).html()\n",
    "    \n",
    "    bs = BeautifulSoup(artistPage)\n",
    "    \n",
    "    tables = bs.find_all(\"table\")\n",
    "    \n",
    "    tab = None\n",
    "    for tab in tables:\n",
    "        if \"infobox\" in tab[\"class\"]:\n",
    "            break\n",
    "            \n",
    "    if tab != None:\n",
    "        titles = [heading.text.strip() for heading in tab.find_all(\"th\")]\n",
    "        titles.pop(0)\n",
    "        data = [data.text.strip() for data in tab.find_all(\"td\")]\n",
    "\n",
    "        for key, value in zip(titles, data):\n",
    "            if key ==\"Origin\":\n",
    "                toReturn = Optional.of(value)\n",
    "    \n",
    "    return toReturn\n",
    "    \n",
    "\n",
    "     \n",
    "    \n",
    "    "
   ]
  },
  {
   "cell_type": "code",
   "execution_count": 69,
   "metadata": {},
   "outputs": [],
   "source": [
    "# simple test\n",
    "assert getArtistOrigin(\"DaBaby\") == 'Charlotte, North Carolina')"
   ]
  },
  {
   "cell_type": "code",
   "execution_count": null,
   "metadata": {},
   "outputs": [],
   "source": [
    "def createDataframe(artist_list):\n",
    "    df = pd.DataFrame({\"artist_name\" : artist_list, \"locations\" : [getArtistOrigin(artist) for artist in artist_list] })\n",
    "    return df"
   ]
  },
  {
   "cell_type": "code",
   "execution_count": null,
   "metadata": {},
   "outputs": [],
   "source": [
    "sample_artists = [\"vampire weekend\", \"ra ra riot\", \"saint motel\"]\n",
    "createDataframe(sample_artists)"
   ]
  },
  {
   "cell_type": "code",
   "execution_count": null,
   "metadata": {},
   "outputs": [],
   "source": []
  }
 ],
 "metadata": {
  "kernelspec": {
   "display_name": "Python 3",
   "language": "python",
   "name": "python3"
  },
  "language_info": {
   "codemirror_mode": {
    "name": "ipython",
    "version": 3
   },
   "file_extension": ".py",
   "mimetype": "text/x-python",
   "name": "python",
   "nbconvert_exporter": "python",
   "pygments_lexer": "ipython3",
   "version": "3.7.3"
  }
 },
 "nbformat": 4,
 "nbformat_minor": 4
}
