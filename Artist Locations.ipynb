{
 "cells": [
  {
   "cell_type": "code",
   "execution_count": 79,
   "metadata": {},
   "outputs": [],
   "source": [
    "import pandas as pd\n",
    "import numpy as np\n",
    "import wikipedia as wiki\n",
    "from bs4 import BeautifulSoup\n",
    "from optional import Optional\n",
    "from geopy.geocoders import Nominatim"
   ]
  },
  {
   "cell_type": "code",
   "execution_count": 68,
   "metadata": {},
   "outputs": [],
   "source": [
    "def getArtistOrigin(name: str):\n",
    "    result = getOriginFromWikipedia(name)\n",
    "    \n",
    "    if result.is_empty():\n",
    "        print(\"Still not found!\")\n",
    "        \n",
    "    if result.is_present():\n",
    "        toReturn = result.get()\n",
    "    else:\n",
    "        toReturn = \"Not Found\"\n",
    "    return toReturn\n",
    "\n",
    "def getOriginFromWikipedia(name: str):\n",
    "    toReturn = Optional.empty()\n",
    "    artistPage = wiki.page(wiki.search(name)[0], auto_suggest=False).html()\n",
    "    \n",
    "    bs = BeautifulSoup(artistPage)\n",
    "    \n",
    "    tables = bs.find_all(\"table\")\n",
    "    \n",
    "    tab = None\n",
    "    for tab in tables:\n",
    "        if \"infobox\" in tab[\"class\"]:\n",
    "            break\n",
    "            \n",
    "    if tab != None:\n",
    "        titles = [heading.text.strip() for heading in tab.find_all(\"th\")]\n",
    "        titles.pop(0)\n",
    "        data = [data.text.strip() for data in tab.find_all(\"td\")]\n",
    "\n",
    "        for key, value in zip(titles, data):\n",
    "            if key ==\"Origin\":\n",
    "                toReturn = Optional.of(value)\n",
    "    \n",
    "    return toReturn"
   ]
  },
  {
   "cell_type": "code",
   "execution_count": 69,
   "metadata": {},
   "outputs": [],
   "source": [
    "# simple test\n",
    "assert getArtistOrigin(\"DaBaby\") == 'Charlotte, North Carolina')"
   ]
  },
  {
   "cell_type": "code",
   "execution_count": 85,
   "metadata": {},
   "outputs": [],
   "source": [
    "def createDataframe(artist_list):\n",
    "    location_name = [getArtistOrigin(artist) for artist in artist_list]\n",
    "    location_coord = [getLocationByGeo(loc) for loc in location_name]\n",
    "    df = pd.DataFrame({\"artist_name\" : artist_list, \"location_name\" : location_name, \"location_coord\": location_coord })\n",
    "    return df\n",
    "                     \n",
    "## https://stackoverflow.com/questions/56873950/convert-place-name-to-coordinates-by-geopy\n",
    "def getLocationByGeo(name):\n",
    "    geolocator = Nominatim(user_agent='my-application')\n",
    "    location = geolocator.geocode(name)\n",
    "    lat = location.latitude\n",
    "    lng = location.longitude\n",
    "    return (lat,lng)"
   ]
  },
  {
   "cell_type": "code",
   "execution_count": 88,
   "metadata": {},
   "outputs": [
    {
     "data": {
      "text/html": [
       "<div>\n",
       "<style scoped>\n",
       "    .dataframe tbody tr th:only-of-type {\n",
       "        vertical-align: middle;\n",
       "    }\n",
       "\n",
       "    .dataframe tbody tr th {\n",
       "        vertical-align: top;\n",
       "    }\n",
       "\n",
       "    .dataframe thead th {\n",
       "        text-align: right;\n",
       "    }\n",
       "</style>\n",
       "<table border=\"1\" class=\"dataframe\">\n",
       "  <thead>\n",
       "    <tr style=\"text-align: right;\">\n",
       "      <th></th>\n",
       "      <th>artist_name</th>\n",
       "      <th>location_name</th>\n",
       "      <th>location_coord</th>\n",
       "    </tr>\n",
       "  </thead>\n",
       "  <tbody>\n",
       "    <tr>\n",
       "      <th>0</th>\n",
       "      <td>vampire weekend</td>\n",
       "      <td>New York City, U.S.</td>\n",
       "      <td>(40.6504178, -73.7971341)</td>\n",
       "    </tr>\n",
       "    <tr>\n",
       "      <th>1</th>\n",
       "      <td>ra ra riot</td>\n",
       "      <td>Syracuse, New York, U.S.</td>\n",
       "      <td>(43.0481221, -76.1474244)</td>\n",
       "    </tr>\n",
       "    <tr>\n",
       "      <th>2</th>\n",
       "      <td>saint motel</td>\n",
       "      <td>Los Angeles, California, US</td>\n",
       "      <td>(34.0536909, -118.2427666)</td>\n",
       "    </tr>\n",
       "    <tr>\n",
       "      <th>3</th>\n",
       "      <td>daft punk</td>\n",
       "      <td>Paris, France</td>\n",
       "      <td>(48.8566969, 2.3514616)</td>\n",
       "    </tr>\n",
       "    <tr>\n",
       "      <th>4</th>\n",
       "      <td>jukebox the ghost</td>\n",
       "      <td>DC metro-area</td>\n",
       "      <td>(14.63487765, 121.03419475000001)</td>\n",
       "    </tr>\n",
       "    <tr>\n",
       "      <th>5</th>\n",
       "      <td>smallpools</td>\n",
       "      <td>Los Angeles, California, United States</td>\n",
       "      <td>(34.0536909, -118.2427666)</td>\n",
       "    </tr>\n",
       "  </tbody>\n",
       "</table>\n",
       "</div>"
      ],
      "text/plain": [
       "         artist_name                           location_name  \\\n",
       "0    vampire weekend                     New York City, U.S.   \n",
       "1         ra ra riot                Syracuse, New York, U.S.   \n",
       "2        saint motel             Los Angeles, California, US   \n",
       "3          daft punk                           Paris, France   \n",
       "4  jukebox the ghost                           DC metro-area   \n",
       "5         smallpools  Los Angeles, California, United States   \n",
       "\n",
       "                      location_coord  \n",
       "0          (40.6504178, -73.7971341)  \n",
       "1          (43.0481221, -76.1474244)  \n",
       "2         (34.0536909, -118.2427666)  \n",
       "3            (48.8566969, 2.3514616)  \n",
       "4  (14.63487765, 121.03419475000001)  \n",
       "5         (34.0536909, -118.2427666)  "
      ]
     },
     "execution_count": 88,
     "metadata": {},
     "output_type": "execute_result"
    }
   ],
   "source": [
    "sample_artists = [\"vampire weekend\", \"ra ra riot\", \"saint motel\", \"daft punk\", \"jukebox the ghost\", \"smallpools\"]\n",
    "createDataframe(sample_artists)"
   ]
  },
  {
   "cell_type": "code",
   "execution_count": null,
   "metadata": {},
   "outputs": [],
   "source": []
  }
 ],
 "metadata": {
  "kernelspec": {
   "display_name": "Python 3",
   "language": "python",
   "name": "python3"
  },
  "language_info": {
   "codemirror_mode": {
    "name": "ipython",
    "version": 3
   },
   "file_extension": ".py",
   "mimetype": "text/x-python",
   "name": "python",
   "nbconvert_exporter": "python",
   "pygments_lexer": "ipython3",
   "version": "3.7.3"
  }
 },
 "nbformat": 4,
 "nbformat_minor": 4
}
